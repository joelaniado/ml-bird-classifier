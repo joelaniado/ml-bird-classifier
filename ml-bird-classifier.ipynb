{
 "cells": [
  {
   "cell_type": "code",
   "execution_count": 1,
   "id": "2f124aa0",
   "metadata": {},
   "outputs": [],
   "source": [
    "import os \n",
    "import numpy as np \n",
    "import pandas as pd \n",
    "import matplotlib.pyplot as plt\n",
    "import matplotlib.image as Image\n",
    "import cv2\n",
    "import time\n",
    "from sklearn.decomposition import PCA\n",
    "from skimage.measure import block_reduce\n",
    "from sklearn.preprocessing import MinMaxScaler\n",
    "from sklearn.metrics import accuracy_score\n"
   ]
  },
  {
   "cell_type": "markdown",
   "id": "8e607dfb",
   "metadata": {},
   "source": [
    "# Data import & Pre-processing --------------------------------------------------------------------"
   ]
  },
  {
   "cell_type": "code",
   "execution_count": 2,
   "id": "b6396e2c",
   "metadata": {},
   "outputs": [],
   "source": [
    "# Gets paths for images \n",
    "def get_catalog(file):\n",
    "    species = []\n",
    "    pics = []\n",
    "    for root, subdir, files in os.walk(file):\n",
    "        species.append(subdir)\n",
    "        pics.append(files)\n",
    "    species = species[0]\n",
    "    \n",
    "    catalog = {}\n",
    "    for i in range(len(species)):\n",
    "        catalog[species[i]] = pics[i+1]\n",
    "    return catalog"
   ]
  },
  {
   "cell_type": "code",
   "execution_count": 3,
   "id": "87a2694c",
   "metadata": {},
   "outputs": [],
   "source": [
    "def get_pics_colors(catalog, path, species_index, pic_index):\n",
    "    count = 1\n",
    "    new_catalog = {}\n",
    "    for specie in catalog:\n",
    "        blues, greens, reds = [], [], []\n",
    "        for i in range(pic_index):\n",
    "            colors = []\n",
    "            blue, green, red = cv2.split(cv2.cvtColor(cv2.imread(path + specie + '/' + catalog[specie][i]), cv2.COLOR_BGR2RGB))\n",
    "            res1 = cv2.resize(blue, dsize=(98, 64), interpolation=cv2.INTER_NEAREST)\n",
    "            res2 = cv2.resize(green, dsize=(98, 64), interpolation=cv2.INTER_NEAREST)\n",
    "            res3 = cv2.resize(red, dsize=(98, 64), interpolation=cv2.INTER_NEAREST)\n",
    "            \n",
    "            blues.append(res1.flatten())\n",
    "            greens.append(res2.flatten())\n",
    "            reds.append(res3.flatten())\n",
    "            \n",
    "        new_catalog[specie] = np.array([blues,greens,reds])\n",
    "        if count == species_index:\n",
    "            break\n",
    "        count += 1\n",
    "        \n",
    "    return new_catalog\n",
    "    "
   ]
  },
  {
   "cell_type": "code",
   "execution_count": 4,
   "id": "b0f5d2a9",
   "metadata": {},
   "outputs": [],
   "source": [
    "#Gets dictionary of pictures in grayscalse from paths\n",
    "def get_pics_gray(catalog,path, species_index,pic_index):\n",
    "    count = 1\n",
    "    new_catalog = {}\n",
    "    for specie in catalog:\n",
    "        images =[]\n",
    "        for i in range(pic_index):\n",
    "            image = cv2.imread(path + specie + '/' + catalog[specie][i],cv2.IMREAD_GRAYSCALE)\n",
    "            res = cv2.resize(image, dsize=(98, 64), interpolation=cv2.INTER_NEAREST)\n",
    "            images.append(res.flatten())\n",
    "        new_catalog[specie] = np.array(images)\n",
    "        if count == species_index:\n",
    "            break\n",
    "        count += 1\n",
    "        \n",
    "    return new_catalog\n",
    "    "
   ]
  },
  {
   "cell_type": "code",
   "execution_count": 5,
   "id": "8d291c8e",
   "metadata": {},
   "outputs": [],
   "source": [
    "# gets dictionary of pictures in rgb from paths\n",
    "def get_pics(catalog,path, species_index,pic_index):\n",
    "    count = 1\n",
    "    new_catalog = {}\n",
    "    for specie in catalog:\n",
    "        images =[]\n",
    "        for i in range(pic_index):\n",
    "            image = cv2.imread(path + specie + '/' + catalog[specie][i])\n",
    "            res = np.array(cv2.resize(image, dsize=(112, 112), interpolation=cv2.INTER_NEAREST))\n",
    "            images.append(np.reshape(res,(12544,3)))\n",
    "        new_catalog[specie] = images\n",
    "        if count == species_index:\n",
    "            break\n",
    "        count += 1\n",
    "        \n",
    "    return new_catalog"
   ]
  },
  {
   "cell_type": "code",
   "execution_count": 6,
   "id": "f8a9ea8a",
   "metadata": {},
   "outputs": [],
   "source": [
    "# Plots sample pictures\n",
    "def plot_sample(catalog, n_species,n_pics,flag):\n",
    "    count = 1\n",
    "    for specie in catalog:\n",
    "        for i in range(n_pics):\n",
    "            if flag:\n",
    "                picture = plt.imshow(np.reshape(catalog[specie][i],(64,98)))\n",
    "            else:\n",
    "                picture = plt.imshow(np.reshape(catalog[specie][i],(112,112,3)))\n",
    "            plt.show()\n",
    "        if count == n_species:\n",
    "            break\n",
    "        count += 1\n",
    "        "
   ]
  },
  {
   "cell_type": "code",
   "execution_count": 7,
   "id": "c5decd09",
   "metadata": {},
   "outputs": [],
   "source": [
    "# Returns dictionary: species as keys, mxn array with pictures as rows and pixels as columns. \n",
    "def import_pics(path, nspec,npic):\n",
    "    bird_catalog = get_catalog(path)\n",
    "    #pics = get_pics_gray(bird_catalog,path, nspec, npic)\n",
    "    pics = get_pics_colors(bird_catalog,path, nspec, npic)\n",
    "    return pics"
   ]
  },
  {
   "cell_type": "code",
   "execution_count": 17,
   "id": "f2a0a662",
   "metadata": {},
   "outputs": [],
   "source": [
    "# Main function for data preprocessing ----------------------------------------------------------------------------------\n",
    "seed = 2\n",
    "np.random.RandomState(seed)\n",
    "\n",
    "\n",
    "#Declare variables \n",
    "train_file, valid_file, test_file = 'data/birds/train/', 'data/birds/valid/', 'data/birds/test/'\n",
    "num_species_train, num_pics_train = 5, 50\n",
    "num_species_val, num_pics_val = 3, 5\n",
    "num_species_test, num_pics_test = 5, 5\n",
    "\n",
    "#get pictures\n",
    "train_pictures = import_pics(train_file, num_species_train, num_pics_train)\n",
    "valid_pictures = import_pics(valid_file, num_species_val, num_pics_val)\n",
    "test_pictures = import_pics(test_file, num_species_test, num_pics_test)\n",
    "\n",
    "#plot samples of imported images\n",
    "#plot_sample(test_pictures,2,2,1)\n"
   ]
  },
  {
   "cell_type": "code",
   "execution_count": 18,
   "id": "a8e9830f",
   "metadata": {},
   "outputs": [],
   "source": [
    "def eigendecomposition(images):\n",
    "    species_values = {}\n",
    "    for specie, values in images.items():\n",
    "        color_values = []\n",
    "        for color in values:\n",
    "            mean = np.mean(color,axis=0)\n",
    "            x = (color-mean)/ 255\n",
    "            U, S, V = np.linalg.svd(x.T)\n",
    "            color_values.append([U,mean])    \n",
    "        species_values[specie] = color_values\n",
    "    print(\"Done eigendecomposing.\")\n",
    "    return species_values"
   ]
  },
  {
   "cell_type": "code",
   "execution_count": 19,
   "id": "90e8cc5c",
   "metadata": {},
   "outputs": [],
   "source": [
    "def get_eigenspecies(eigen,n_comp):\n",
    "    species_eigenvectors = {}\n",
    "    for spec, vals in  eigen.items():\n",
    "        color_values = []\n",
    "        for color in vals:\n",
    "            U = color[0]\n",
    "            mean = color[1]\n",
    "            eigenvectors =  U[:,:n_comp]\n",
    "            color_values.append((eigenvectors,mean))\n",
    "        species_eigenvectors[spec] = color_values\n",
    "    print(\"Done getting eigenspecies.\")\n",
    "    return species_eigenvectors"
   ]
  },
  {
   "cell_type": "code",
   "execution_count": 20,
   "id": "25fe88b4",
   "metadata": {},
   "outputs": [],
   "source": [
    "def combine_pics(pictures):\n",
    "    test_images = []\n",
    "    for spec,test_im in pictures.items():\n",
    "        if len(test_images) == 0:\n",
    "            test_images = test_im\n",
    "        else:\n",
    "            test_images = np.hstack([test_images,test_im])\n",
    "    print(\"Done combining pics.\")\n",
    "    return test_images\n",
    "    "
   ]
  },
  {
   "cell_type": "code",
   "execution_count": 21,
   "id": "b6c9bc68",
   "metadata": {},
   "outputs": [],
   "source": [
    "def get_residuals(eigenspecies,test):\n",
    "    residuals_matrix = []\n",
    "    test = test / 255\n",
    "    matrix_residual = []\n",
    "    for i in range(3):\n",
    "        residual_color = []\n",
    "        for image in test[i]:\n",
    "            per_species_residual = []\n",
    "            for specie, metrics in eigenspecies.items():\n",
    "                pre_image = image - (metrics[i][1]/255)\n",
    "                residual = np.linalg.norm(pre_image - (metrics[i][0] @ metrics[i][0].T @ pre_image))**2\n",
    "                per_species_residual.append(residual)\n",
    "            residual_color.append(per_species_residual)\n",
    "        matrix_residual.append(residual_color) \n",
    "    print(\"Done getting residuals.\")\n",
    "    return np.array(matrix_residual)"
   ]
  },
  {
   "cell_type": "code",
   "execution_count": 22,
   "id": "132f9181",
   "metadata": {},
   "outputs": [],
   "source": [
    "def get_classes(n_test_species,n_test_pics):\n",
    "    temp_a = np.arange(n_test_species)\n",
    "    temp_b = np.repeat(temp_a,n_test_pics)\n",
    "    return np.array(temp_b +1)"
   ]
  },
  {
   "cell_type": "code",
   "execution_count": 23,
   "id": "9df769a8",
   "metadata": {},
   "outputs": [
    {
     "name": "stdout",
     "output_type": "stream",
     "text": [
      "Done eigendecomposing.\n",
      "Done getting eigenspecies.\n",
      "Done combining pics.\n",
      "Done getting residuals.\n",
      "424.7748022079468\n"
     ]
    }
   ],
   "source": [
    "start = time.time()\n",
    "eiger = eigendecomposition(train_pictures)\n",
    "rgb_eigenspecies = get_eigenspecies(eiger, 50)\n",
    "combined_test_pics = combine_pics(test_pictures)\n",
    "residuals = get_residuals(rgb_eigenspecies, combined_test_pics)\n",
    "end = time.time()\n",
    "print(end-start)"
   ]
  },
  {
   "cell_type": "code",
   "execution_count": 24,
   "id": "3a494448",
   "metadata": {},
   "outputs": [
    {
     "name": "stdout",
     "output_type": "stream",
     "text": [
      "0.52\n"
     ]
    }
   ],
   "source": [
    "avg_residuals = np.sum(residuals,axis=0) / 3\n",
    "classification = avg_residuals.argmin(axis=1) + 1\n",
    "true_classes = get_classes(num_species_test, num_pics_test)\n",
    "print(accuracy_score(true_classes,classification))"
   ]
  },
  {
   "cell_type": "code",
   "execution_count": 47,
   "id": "dbedf096",
   "metadata": {},
   "outputs": [
    {
     "name": "stdout",
     "output_type": "stream",
     "text": [
      "[[[295.25270231 295.5016725  337.45603338 295.71794492 287.79210244]\n",
      "  [199.38735713 180.63411138 233.07724539 221.19397416 197.44271939]\n",
      "  [111.04101428 119.8871492  146.76474795 123.09134217 110.98301597]\n",
      "  [222.83271217 256.40635811 285.74034037 259.95664037 265.37950677]\n",
      "  [131.42250443 129.50191723 130.4165249  133.97800565 131.05586173]\n",
      "  [211.79560852 153.19499311 247.44799332 238.26410586 287.19390874]\n",
      "  [173.80597141 149.55806715 174.44263094 169.80203197 165.99548014]\n",
      "  [130.32824492 140.46424104 140.55192053 133.73091438 139.01137785]\n",
      "  [ 31.86241729  35.90069432  42.4959802   38.37449297  39.03034543]\n",
      "  [146.69627423 135.38218027 180.13484686 158.16351282 149.35102153]\n",
      "  [195.77000213 192.28518165 204.84208061 214.07005766 197.09346969]\n",
      "  [189.89274907 166.82434612 190.434843   214.49916941 194.25568206]\n",
      "  [198.1973555  219.18212572 165.40337919 236.06629361 225.32571351]\n",
      "  [127.98030569 135.3518725  121.24207777 137.18135947 137.65014549]\n",
      "  [206.10924412 202.49170129 158.86137053 200.32727675 212.24093716]\n",
      "  [128.21864774 122.22204475 134.37776794 107.95403255 130.12437399]\n",
      "  [262.34401188 245.64146121 219.02708021 239.0510313  229.82952954]\n",
      "  [158.93212163 167.19757835 169.17936985 163.44044624 165.84640567]\n",
      "  [175.26027866 173.95282507 225.41183459 199.41318981 197.81763211]\n",
      "  [126.73268426 138.81690915 146.48092324 121.44364032 126.84703624]\n",
      "  [127.00237826 153.57334409 152.86416193 160.946449   135.66986036]\n",
      "  [255.54469897 215.05328315 220.85790138 224.40577586 226.38343258]\n",
      "  [196.44367563 181.51365735 158.05699085 177.74203245 196.34800086]\n",
      "  [ 77.80443738  78.58907293  75.45973001  83.46907146  77.62231337]\n",
      "  [162.90745993 184.831347   178.77957285 212.67053173 160.36810315]]\n",
      "\n",
      " [[293.95558411 294.70004201 308.45287586 290.80825881 285.54232789]\n",
      "  [248.5425349  220.09185002 273.88493752 248.29008869 232.76435354]\n",
      "  [113.60092688 112.87501293 134.9892961  119.53920662 110.64325556]\n",
      "  [204.4375343  229.88742838 229.66518982 228.45557079 237.22844419]\n",
      "  [161.60498012 157.3247328  152.40142183 158.54326255 159.06608434]\n",
      "  [189.73512866 143.84983941 244.04218573 217.27972443 257.96089988]\n",
      "  [162.13011968 143.49561691 159.51829152 156.10724812 169.824889  ]\n",
      "  [165.21013557 153.08357403 162.07006708 156.27237672 174.90692282]\n",
      "  [ 45.05101708  53.26225987  54.26820462  50.60794871  57.22945241]\n",
      "  [174.56249289 153.45542678 207.37410664 171.3005167  166.68162647]\n",
      "  [174.97113341 194.680783   184.09941817 210.34383885 195.60718431]\n",
      "  [157.18937066 150.53918379 161.04046371 193.81709886 168.20579593]\n",
      "  [150.07061002 179.8074118  134.10451153 171.15202908 159.78898517]\n",
      "  [113.96414237 125.31557899 109.86212533 126.10084161 127.67185121]\n",
      "  [168.35924094 176.78870572 135.47721279 180.08715035 175.3383994 ]\n",
      "  [117.03748036 115.11516184 132.56020875 106.41290612 136.90250012]\n",
      "  [237.05022168 212.99075418 197.49267662 238.43374865 243.72535328]\n",
      "  [119.17972674 144.730543   138.34973964 132.93450911 149.47980666]\n",
      "  [162.90707862 151.85822697 191.17149493 190.67430138 167.01297814]\n",
      "  [111.36676832 124.38289407 118.97562652 113.05570915 122.02645711]\n",
      "  [ 89.79674032 111.53728259 109.40846504 121.13310393 104.60976703]\n",
      "  [229.34399869 217.26563956 234.7364014  228.85936918 213.24479686]\n",
      "  [168.83177863 176.02030955 184.26907259 185.02399407 160.12783509]\n",
      "  [ 94.71132709  97.50718785  96.63897695 102.57733545  96.53832396]\n",
      "  [132.54584968 163.75719558 137.89683908 167.22275908 133.87680776]]\n",
      "\n",
      " [[255.69314482 265.17352026 268.72967155 269.01577886 260.30505016]\n",
      "  [293.54291944 259.30851564 345.64766597 314.00853821 316.36004694]\n",
      "  [176.84082505 198.2992919  206.14785811 198.94210156 180.22119763]\n",
      "  [200.89590985 233.23915296 217.75245162 229.36915149 244.38651251]\n",
      "  [175.4739044  185.52576339 190.94294394 200.7557527  197.60468352]\n",
      "  [240.2057826  173.31026565 303.94408565 298.31020639 361.44764632]\n",
      "  [201.78783217 197.4100953  220.91866895 217.7515764  213.83124302]\n",
      "  [222.14744853 211.52726816 260.40247763 240.42085206 257.85514406]\n",
      "  [111.56256853 104.36197406 111.28414391 120.01250235 112.40658003]\n",
      "  [234.05583112 176.1237896  248.42906157 198.38218012 236.71881934]\n",
      "  [204.41302002 212.0200994  220.25059821 213.24506942 205.59765182]\n",
      "  [114.55059084 124.17580313 122.87398123 121.1679558  126.67787226]\n",
      "  [108.97091504 120.83361892 113.35374639 143.93592559 139.03109808]\n",
      "  [160.84158453 154.53258319 150.92554894 164.23436737 175.09523502]\n",
      "  [126.25783734 137.13967357 107.60519778 140.04736208 134.70655537]\n",
      "  [130.76253106 111.63887216 126.39470737 116.39622093 144.41554879]\n",
      "  [253.46204263 243.61381282 222.29459639 262.6164579  269.0758921 ]\n",
      "  [120.41218036 138.07402685 124.03957817 114.30308344 124.87942996]\n",
      "  [260.67398714 195.68986232 324.04633155 268.16571492 304.96818128]\n",
      "  [ 93.23752452 121.39532002  92.37998435  96.40960798  93.35711082]\n",
      "  [ 67.91927788 102.39950889  75.27328808  80.45002639  57.07738532]\n",
      "  [157.59462799 179.35739994 156.41763667 169.67441656 146.92004421]\n",
      "  [121.51222804 132.76642613 124.45246022 157.12375833 125.34957203]\n",
      "  [ 74.82502864  90.61814027  79.39749438  81.89587378  81.85308199]\n",
      "  [134.15967555 199.18886143 170.40175292 204.03151218 138.92314558]]]\n"
     ]
    }
   ],
   "source": [
    "print(residuals)"
   ]
  },
  {
   "cell_type": "code",
   "execution_count": 78,
   "id": "9c6c516b",
   "metadata": {},
   "outputs": [
    {
     "name": "stdout",
     "output_type": "stream",
     "text": [
      "0.52\n"
     ]
    }
   ],
   "source": [
    "new_residuals = []\n",
    "for n in residuals:\n",
    "    weights = (n / np.sum(n,axis=1)[:,None])\n",
    "    new_residuals.append(weights)\n",
    "new_residuals = np.array(new_residuals)\n",
    "\n",
    "minimums = np.argmin(new_residuals,axis=0)\n",
    "for i in range(minimums.shape[0]):\n",
    "    for j in range(minimums.shape[1]):\n",
    "        new_residuals[minimums[i][j],i,j] = 0\n",
    "new_res = 1- new_residuals\n",
    "\n",
    "final = []\n",
    "for n in range(3):\n",
    "    new = residuals[n] * new_res[n]\n",
    "    final.append(new)\n",
    "\n",
    "avg_residuals = np.sum(residuals,axis=0) / 3\n",
    "classification = avg_residuals.argmin(axis=1) + 1\n",
    "true_classes = get_classes(num_species_test, num_pics_test)\n",
    "print(accuracy_score(true_classes,classification))"
   ]
  },
  {
   "cell_type": "markdown",
   "id": "b2803c06",
   "metadata": {},
   "source": [
    "# Dimensionality Reduction -------------------------------------------------------------------------"
   ]
  },
  {
   "cell_type": "code",
   "execution_count": null,
   "id": "c8a2bf60",
   "metadata": {},
   "outputs": [],
   "source": [
    "def eigendecomposition(images):\n",
    "    species_values = {}\n",
    "    shape = []\n",
    "    for specie, values in images.items():\n",
    "        mean = np.mean(values,axis=0)\n",
    "        x = (values - mean) / 255\n",
    "        \n",
    "        U, S, V = np.linalg.svd(x.T)\n",
    "        shape = U.shape\n",
    "        species_values[specie] = [U, S, V, mean]\n",
    "    return species_values, shape"
   ]
  },
  {
   "cell_type": "code",
   "execution_count": null,
   "id": "f157ed9b",
   "metadata": {},
   "outputs": [],
   "source": [
    "def get_eigenspecies(eigen,n_comp):\n",
    "    species_eigenvectors = {}\n",
    "    for spec, vals in  eigen.items():\n",
    "        U = vals[0]\n",
    "        mean = vals[3]\n",
    "        eigenvectors =  U[:,:n_comp]\n",
    "        #for i in range(eigenvectors.shape[1]):\n",
    "            #plt.imshow(np.reshape(eigenvectors[:,i],(64,98)), cmap='gray')\n",
    "            #plt.title('eigenspecies'+str(i+1))\n",
    "            #plt.savefig('eigenfaces/subject'+flag+str(n+1)+'.jpg')\n",
    "            #plt.show()\n",
    "        species_eigenvectors[spec] = (eigenvectors, mean)\n",
    "    return species_eigenvectors"
   ]
  },
  {
   "cell_type": "code",
   "execution_count": null,
   "id": "2bfceceb",
   "metadata": {},
   "outputs": [],
   "source": [
    "def get_residuals(eigenspecies,test):\n",
    "    test_images = []\n",
    "    for spec,test_im in test.items():\n",
    "        if len(test_images) == 0:\n",
    "            test_images = test_im\n",
    "        else:\n",
    "            test_images = np.concatenate((test_images,test_im),axis=0)\n",
    "    \n",
    "    residuals_matrix = []\n",
    "    for image in test_images:\n",
    "        per_species_residual = []\n",
    "        for specie, metrics in eigenspecies.items():\n",
    "            pre_image = np.reshape((image - metrics[1]) / 255,(6272,1))\n",
    "            residual = np.linalg.norm((pre_image - (metrics[0] @ metrics[0].T @ pre_image)))**2\n",
    "            per_species_residual.append(residual)\n",
    "        residuals_matrix.append(per_species_residual)\n",
    "    return np.array(residuals_matrix)\n",
    "    "
   ]
  },
  {
   "cell_type": "code",
   "execution_count": null,
   "id": "d018f12e",
   "metadata": {},
   "outputs": [],
   "source": [
    "def get_classes(n_test_species,n_test_pics):\n",
    "    temp_a = np.arange(n_test_species)\n",
    "    temp_b = np.repeat(temp_a,n_test_pics)\n",
    "    return np.array(temp_b +1)\n",
    "    \n",
    "    "
   ]
  },
  {
   "cell_type": "code",
   "execution_count": null,
   "id": "dc890025",
   "metadata": {},
   "outputs": [],
   "source": [
    "def eval_model(eigenspec,test_im,shape, n_test_species, n_test_pics):\n",
    "    score = []\n",
    "    principal_comp = []\n",
    "    counter = np.arange(1,shape[0], 100)\n",
    "    for i in counter:\n",
    "        eigenspecies = get_eigenspecies(eigenspec, i)\n",
    "        residuals = get_residuals(eigenspecies,test_im)\n",
    "        classification = residuals.argmin(axis=1) + 1\n",
    "        true_classes = get_classes(n_test_species,n_test_pics)\n",
    "        score.append(accuracy_score(true_classes,classification))\n",
    "        principal_comp.append(i)\n",
    "        print(i,\" iteration complete.\")\n",
    "    return score, principal_comp\n",
    "    "
   ]
  },
  {
   "cell_type": "code",
   "execution_count": null,
   "id": "53710b75",
   "metadata": {},
   "outputs": [],
   "source": [
    "start = time.time()\n",
    "specie_eigenvalues, shape = eigendecomposition(train_pictures)"
   ]
  },
  {
   "cell_type": "code",
   "execution_count": null,
   "id": "10c99b9d",
   "metadata": {},
   "outputs": [],
   "source": [
    "eigenspecies = get_eigenspecies(specie_eigenvalues, 20)\n",
    "residuals = get_residuals(eigenspecies,test_pictures)\n",
    "classification = residuals.argmin(axis=1) + 1\n",
    "true_classes = get_classes(num_species_test, num_pics_test)\n",
    "print(accuracy_score(true_classes,classification))\n",
    "end = time.time()\n",
    "total_time = end-start\n",
    "print(\"The algorithm took \" + str(total_time) + \"seconds.\")"
   ]
  },
  {
   "cell_type": "code",
   "execution_count": null,
   "id": "3142efe3",
   "metadata": {},
   "outputs": [],
   "source": [
    "print(true_classes,classification)"
   ]
  },
  {
   "cell_type": "code",
   "execution_count": null,
   "id": "489f0118",
   "metadata": {},
   "outputs": [],
   "source": [
    "accuracy, parameter = eval_model(specie_eigenvalues,test_pictures,shape,2,5)\n",
    "#end = time.time()\n",
    "#total_time = end-start\n",
    "#print(\"The algorithm took \" + total_time + \"seconds.\")\n"
   ]
  },
  {
   "cell_type": "code",
   "execution_count": null,
   "id": "243a10db",
   "metadata": {},
   "outputs": [],
   "source": [
    "plt.scatter(parameter, accuracy)"
   ]
  },
  {
   "cell_type": "markdown",
   "id": "a98ec464",
   "metadata": {},
   "source": [
    "# Density Estimation -----------------------------------------------------------------------------------"
   ]
  },
  {
   "cell_type": "markdown",
   "id": "09ce8fca",
   "metadata": {},
   "source": [
    "# Traditional Classification --------------------------------------------------------------------------"
   ]
  },
  {
   "cell_type": "markdown",
   "id": "d59d2bf9",
   "metadata": {},
   "source": [
    "# Deep Learning -----------------------------------------------------------------------------------------"
   ]
  },
  {
   "cell_type": "code",
   "execution_count": null,
   "id": "d0df424a",
   "metadata": {},
   "outputs": [],
   "source": [
    "for specie in pictures:\n",
    "    for n in pictures[specie]:\n",
    "        print(n.shape)"
   ]
  },
  {
   "cell_type": "code",
   "execution_count": null,
   "id": "1bcbb42f",
   "metadata": {},
   "outputs": [],
   "source": []
  }
 ],
 "metadata": {
  "kernelspec": {
   "display_name": "Python 3 (ipykernel)",
   "language": "python",
   "name": "python3"
  },
  "language_info": {
   "codemirror_mode": {
    "name": "ipython",
    "version": 3
   },
   "file_extension": ".py",
   "mimetype": "text/x-python",
   "name": "python",
   "nbconvert_exporter": "python",
   "pygments_lexer": "ipython3",
   "version": "3.10.3"
  }
 },
 "nbformat": 4,
 "nbformat_minor": 5
}
