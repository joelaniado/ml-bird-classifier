{
 "cells": [
  {
   "cell_type": "code",
   "execution_count": 1,
   "id": "2f124aa0",
   "metadata": {},
   "outputs": [],
   "source": [
    "import os \n",
    "import numpy as np \n",
    "import pandas as pd \n",
    "import matplotlib.pyplot as plt\n",
    "import matplotlib.image as Image\n",
    "import cv2\n",
    "import time\n",
    "from sklearn.metrics import accuracy_score\n",
    "from sklearn.svm import SVC\n",
    "from sklearn.neighbors import KNeighborsClassifier\n",
    "from sklearn.linear_model import LogisticRegression\n",
    "from sklearn.preprocessing import StandardScaler\n",
    "from sklearn.decomposition import PCA\n",
    "from sklearn.model_selection import GridSearchCV\n",
    "from sklearn.model_selection import cross_val_score\n",
    "from sklearn.cluster import KMeans"
   ]
  },
  {
   "cell_type": "markdown",
   "id": "8e607dfb",
   "metadata": {},
   "source": [
    "# Data import & Pre-processing --------------------------------------------------------------------"
   ]
  },
  {
   "cell_type": "code",
   "execution_count": 2,
   "id": "b6396e2c",
   "metadata": {},
   "outputs": [],
   "source": [
    "# Gets paths for images \n",
    "def get_catalog(file):\n",
    "    species = []\n",
    "    pics = []\n",
    "    for root, subdir, files in os.walk(file):\n",
    "        species.append(subdir)\n",
    "        pics.append(files)\n",
    "    species = species[0]\n",
    "    \n",
    "    catalog = {}\n",
    "    for i in range(len(species)):\n",
    "        catalog[species[i]] = pics[i+1]\n",
    "    return catalog"
   ]
  },
  {
   "cell_type": "code",
   "execution_count": null,
   "id": "0bd330fa",
   "metadata": {},
   "outputs": [],
   "source": [
    "def get_pics(catalog,path, species_index,pic_index):\n",
    "    count = 1\n",
    "    new_catalog = {}\n",
    "    for specie in catalog:\n",
    "        images =[]\n",
    "        for i in range(pic_index):\n",
    "            image = cv2.imread(path + specie + '/' + catalog[specie][i])\n",
    "            res = cv2.resize(image, dsize=(98, 64), interpolation=cv2.INTER_NEAREST)\n",
    "            images.append(res.flatten())\n",
    "        new_catalog[specie] = np.array(images)\n",
    "        if count == species_index:\n",
    "            break\n",
    "        count += 1\n",
    "        \n",
    "    return new_catalog"
   ]
  },
  {
   "cell_type": "code",
   "execution_count": null,
   "id": "224cef9c",
   "metadata": {},
   "outputs": [],
   "source": [
    "def import_pics2(path, nspec, npic):\n",
    "    bird_catalog = get_catalog(path)\n",
    "    pics = get_pics(bird_catalog,path, nspec, npic)\n",
    "    return pics"
   ]
  },
  {
   "cell_type": "code",
   "execution_count": null,
   "id": "92383a59",
   "metadata": {},
   "outputs": [],
   "source": [
    "def get_Xy(pictures):\n",
    "    test_images = []\n",
    "    labels = []\n",
    "    count = 1\n",
    "    for species, values in pictures.items():\n",
    "        if len(test_images) == 0:\n",
    "            test_images = values\n",
    "            labels = np.repeat(count,values.shape[0])\n",
    "        else:\n",
    "            test_images = np.concatenate((test_images,values),axis=0)\n",
    "            labels = np.concatenate((labels, np.repeat(count, values.shape[0])),axis=0)\n",
    "        count +=1\n",
    "    test_images = np.array(test_images)\n",
    "    return test_images, np.array(labels)"
   ]
  },
  {
   "cell_type": "code",
   "execution_count": null,
   "id": "67476861",
   "metadata": {},
   "outputs": [],
   "source": [
    "# Main function for data preprocessing ----------------------------------------------------------------------------------\n",
    "seed = 2\n",
    "np.random.RandomState(seed)\n",
    "\n",
    "#Declare variables \n",
    "train_file, valid_file, test_file = 'data/birds/train/', 'data/birds/valid/', 'data/birds/test/'\n",
    "num_species_train, num_pics_train = 5, 100\n",
    "num_species_val, num_pics_val = 3, 5\n",
    "num_species_test, num_pics_test = 5, 5\n",
    "\n",
    "#get pictures\n",
    "train_pictures = import_pics2(train_file, num_species_train, num_pics_train)\n",
    "valid_pictures = import_pics2(valid_file, num_species_val, num_pics_val)\n",
    "test_pictures = import_pics2(test_file, num_species_test, num_pics_test)"
   ]
  },
  {
   "cell_type": "markdown",
   "id": "bd90f653",
   "metadata": {},
   "source": [
    "# Dim RED with whole ---------------------------------------------------------------------------------"
   ]
  },
  {
   "cell_type": "code",
   "execution_count": null,
   "id": "9b3cd276",
   "metadata": {},
   "outputs": [],
   "source": [
    "def eigendecomposition(images):\n",
    "    species_values = {}\n",
    "    for specie, values in images.items():\n",
    "        mean = np.mean(values,axis=0)\n",
    "        x = (values-mean)/ 255\n",
    "        U, S, V = np.linalg.svd(x.T,full_matrices=False)\n",
    "        species_values[specie] = [U, S, mean]\n",
    "    print(\"Done eigendecomposing.\")\n",
    "    return species_values"
   ]
  },
  {
   "cell_type": "code",
   "execution_count": null,
   "id": "9221760d",
   "metadata": {},
   "outputs": [],
   "source": [
    "def get_eigenspecies(eigen,n_comp):\n",
    "    species_eigenvectors = {}\n",
    "    for spec, vals in  eigen.items():\n",
    "        U = vals[0]\n",
    "        mean = vals[2]\n",
    "        eigenvs =  U[:,:n_comp]\n",
    "        species_eigenvectors[spec] = (eigenvs, mean)\n",
    "    print(\"Done getting eigenspecies.\")\n",
    "    return species_eigenvectors"
   ]
  },
  {
   "cell_type": "code",
   "execution_count": null,
   "id": "98b3608d",
   "metadata": {},
   "outputs": [],
   "source": [
    "def get_Xy(pictures):\n",
    "    test_images = []\n",
    "    labels = []\n",
    "    count = 1\n",
    "    for species, values in pictures.items():\n",
    "        if len(test_images) == 0:\n",
    "            test_images = values\n",
    "            labels = np.repeat(count,values.shape[0])\n",
    "        else:\n",
    "            test_images = np.concatenate((test_images,values),axis=0)\n",
    "            labels = np.concatenate((labels, np.repeat(count, values.shape[0])),axis=0)\n",
    "        count +=1\n",
    "    test_images = np.array(test_images)\n",
    "    return test_images, np.array(labels)"
   ]
  },
  {
   "cell_type": "code",
   "execution_count": null,
   "id": "ec25bf22",
   "metadata": {},
   "outputs": [],
   "source": [
    "def get_residuals(eigenspecies,test):\n",
    "    residuals_matrix = []\n",
    "    test = test / 255\n",
    "    matrix_residual = []\n",
    "    for image in test:\n",
    "        per_species_residual = []\n",
    "        for specie, metrics in eigenspecies.items():\n",
    "            pre_image = image - (metrics[1]/255)\n",
    "            residual = np.linalg.norm(pre_image - (metrics[0] @ metrics[0].T @ pre_image))**2\n",
    "            per_species_residual.append(residual)\n",
    "        matrix_residual.append(per_species_residual) \n",
    "    print(\"Done getting residuals.\")\n",
    "    return np.array(matrix_residual)"
   ]
  },
  {
   "cell_type": "code",
   "execution_count": null,
   "id": "565c3779",
   "metadata": {},
   "outputs": [],
   "source": [
    "start = time.time()\n",
    "eigenvectors = eigendecomposition(train_pictures)\n",
    "eigenspecies = get_eigenspecies(eigenvectors, 90)\n",
    "X_test, y_test = get_Xy(test_pictures)\n",
    "residuals = get_residuals(eigenspecies,X_test)\n",
    "end = time.time()\n",
    "print(end-start)"
   ]
  },
  {
   "cell_type": "code",
   "execution_count": null,
   "id": "2a3cef96",
   "metadata": {},
   "outputs": [],
   "source": [
    "classification = residuals.argmin(axis=1) + 1\n",
    "print(accuracy_score(y_test,classification))"
   ]
  },
  {
   "cell_type": "markdown",
   "id": "e21215be",
   "metadata": {},
   "source": [
    "# divided color implementation ----------------------------------------------------------------------"
   ]
  },
  {
   "cell_type": "code",
   "execution_count": 3,
   "id": "87a2694c",
   "metadata": {},
   "outputs": [],
   "source": [
    "def get_pics_colors(catalog, path, species_index, pic_index):\n",
    "    count = 1\n",
    "    new_catalog = {}\n",
    "    for specie in catalog:\n",
    "        blues, greens, reds = [], [], []\n",
    "        for i in range(pic_index):\n",
    "            colors = []\n",
    "            blue, green, red = cv2.split(cv2.cvtColor(cv2.imread(path + specie + '/' + catalog[specie][i]), cv2.COLOR_BGR2RGB))\n",
    "            res1 = cv2.resize(blue, dsize=(98, 64), interpolation=cv2.INTER_NEAREST)\n",
    "            res2 = cv2.resize(green, dsize=(98, 64), interpolation=cv2.INTER_NEAREST)\n",
    "            res3 = cv2.resize(red, dsize=(98, 64), interpolation=cv2.INTER_NEAREST)\n",
    "            \n",
    "            blues.append(res1.flatten())\n",
    "            greens.append(res2.flatten())\n",
    "            reds.append(res3.flatten())\n",
    "            \n",
    "        new_catalog[specie] = np.array([blues,greens,reds])\n",
    "        if count == species_index:\n",
    "            break\n",
    "        count += 1\n",
    "        \n",
    "    return new_catalog\n",
    "    "
   ]
  },
  {
   "cell_type": "code",
   "execution_count": 4,
   "id": "c5decd09",
   "metadata": {},
   "outputs": [],
   "source": [
    "# Returns dictionary: species as keys, mxn array with pictures as rows and pixels as columns. \n",
    "def import_pics(path, nspec,npic):\n",
    "    bird_catalog = get_catalog(path)\n",
    "    #pics = get_pics_gray(bird_catalog,path, nspec, npic)\n",
    "    pics = get_pics_colors(bird_catalog,path, nspec, npic)\n",
    "    return pics"
   ]
  },
  {
   "cell_type": "code",
   "execution_count": 5,
   "id": "f8a9ea8a",
   "metadata": {},
   "outputs": [],
   "source": [
    "# Plots sample pictures\n",
    "def plot_sample(catalog, n_species,n_pics,flag):\n",
    "    count = 1\n",
    "    for specie in catalog:\n",
    "        for i in range(n_pics):\n",
    "            if flag:\n",
    "                picture = plt.imshow(np.reshape(catalog[specie][i],(64,98)))\n",
    "            else:\n",
    "                picture = plt.imshow(np.reshape(catalog[specie][i],(112,112,3)))\n",
    "            plt.show()\n",
    "        if count == n_species:\n",
    "            break\n",
    "        count += 1\n",
    "        "
   ]
  },
  {
   "cell_type": "code",
   "execution_count": 6,
   "id": "f2a0a662",
   "metadata": {},
   "outputs": [],
   "source": [
    "# Main function for data preprocessing ----------------------------------------------------------------------------------\n",
    "seed = 2\n",
    "np.random.RandomState(seed)\n",
    "\n",
    "\n",
    "#Declare variables \n",
    "train_file, valid_file, test_file = 'data/birds/train/', 'data/birds/valid/', 'data/birds/test/'\n",
    "num_species_train, num_pics_train = 5, 100\n",
    "num_species_val, num_pics_val = 3, 5\n",
    "num_species_test, num_pics_test = 5, 5\n",
    "\n",
    "#get pictures\n",
    "train_pictures = import_pics(train_file, num_species_train, num_pics_train)\n",
    "valid_pictures = import_pics(valid_file, num_species_val, num_pics_val)\n",
    "test_pictures = import_pics(test_file, num_species_test, num_pics_test)\n",
    "\n",
    "#plot samples of imported images\n",
    "#plot_sample(test_pictures,2,2,1)\n"
   ]
  },
  {
   "cell_type": "markdown",
   "id": "b2803c06",
   "metadata": {},
   "source": [
    "# Dimensionality Reduction -------------------------------------------------------------------------"
   ]
  },
  {
   "cell_type": "code",
   "execution_count": 7,
   "id": "a8e9830f",
   "metadata": {},
   "outputs": [],
   "source": [
    "def eigendecomposition(images):\n",
    "    species_values = {}\n",
    "    for specie, values in images.items():\n",
    "        color_values = []\n",
    "        for color in values:\n",
    "            mean = np.mean(color,axis=0)\n",
    "            x = (color-mean)/ 255\n",
    "            U, S, V = np.linalg.svd(x.T)\n",
    "            color_values.append([U,S,mean])    \n",
    "        species_values[specie] = color_values\n",
    "    print(\"Done eigendecomposing.\")\n",
    "    return species_values"
   ]
  },
  {
   "cell_type": "code",
   "execution_count": 8,
   "id": "90e8cc5c",
   "metadata": {},
   "outputs": [],
   "source": [
    "def get_eigenspecies(eigen,n_comp):\n",
    "    species_eigenvectors = {}\n",
    "    for spec, vals in  eigen.items():\n",
    "        color_values = []\n",
    "        for color in vals:\n",
    "            U = color[0]\n",
    "            mean = color[2]\n",
    "            eigenvectors =  U[:,:n_comp]\n",
    "            color_values.append((eigenvectors,mean))\n",
    "        species_eigenvectors[spec] = color_values\n",
    "    print(\"Done getting eigenspecies.\")\n",
    "    return species_eigenvectors"
   ]
  },
  {
   "cell_type": "code",
   "execution_count": 9,
   "id": "25fe88b4",
   "metadata": {},
   "outputs": [],
   "source": [
    "def combine_pics(pictures):\n",
    "    test_images = []\n",
    "    for spec,test_im in pictures.items():\n",
    "        if len(test_images) == 0:\n",
    "            test_images = test_im\n",
    "        else:\n",
    "            test_images = np.hstack([test_images,test_im])\n",
    "    print(\"Done combining pics.\")\n",
    "    return test_images\n",
    "    "
   ]
  },
  {
   "cell_type": "code",
   "execution_count": 10,
   "id": "b6c9bc68",
   "metadata": {},
   "outputs": [],
   "source": [
    "def get_residuals(eigenspecies,test):\n",
    "    residuals_matrix = []\n",
    "    test = test / 255\n",
    "    matrix_residual = []\n",
    "    for i in range(3):\n",
    "        residual_color = []\n",
    "        for image in test[i]:\n",
    "            per_species_residual = []\n",
    "            for specie, metrics in eigenspecies.items():\n",
    "                pre_image = image - (metrics[i][1]/255)\n",
    "                residual = np.linalg.norm(pre_image - (metrics[i][0] @ metrics[i][0].T @ pre_image))**2\n",
    "                per_species_residual.append(residual)\n",
    "            residual_color.append(per_species_residual)\n",
    "        matrix_residual.append(residual_color) \n",
    "    print(\"Done getting residuals.\")\n",
    "    return np.array(matrix_residual)"
   ]
  },
  {
   "cell_type": "code",
   "execution_count": 11,
   "id": "132f9181",
   "metadata": {},
   "outputs": [],
   "source": [
    "def get_classes(n_test_species,n_test_pics):\n",
    "    temp_a = np.arange(n_test_species)\n",
    "    temp_b = np.repeat(temp_a,n_test_pics)\n",
    "    return np.array(temp_b +1)"
   ]
  },
  {
   "cell_type": "code",
   "execution_count": null,
   "id": "9df769a8",
   "metadata": {},
   "outputs": [],
   "source": [
    "start = time.time()\n",
    "eigenvectors = eigendecomposition(train_pictures)\n",
    "rgb_eigenspecies = get_eigenspecies(eigenvectors, 90)\n",
    "combined_test_pics = combine_pics(test_pictures)\n",
    "residuals = get_residuals(rgb_eigenspecies, combined_test_pics)\n",
    "end = time.time()\n",
    "print(end-start)"
   ]
  },
  {
   "cell_type": "code",
   "execution_count": null,
   "id": "3a494448",
   "metadata": {},
   "outputs": [],
   "source": [
    "l2_residuals = np.sqrt(np.sum(residuals**2,axis=0))\n",
    "#l2_residuals = np.sum(residuals,axis=0)**2 / 3\n",
    "classification = l2_residuals.argmin(axis=1) + 1\n",
    "true_classes = get_classes(num_species_test, num_pics_test)\n",
    "print(accuracy_score(true_classes,classification))"
   ]
  },
  {
   "cell_type": "markdown",
   "id": "a98ec464",
   "metadata": {},
   "source": [
    "# Density Estimation -----------------------------------------------------------------------------------"
   ]
  },
  {
   "cell_type": "code",
   "execution_count": null,
   "id": "40287e93",
   "metadata": {},
   "outputs": [],
   "source": [
    "def dim_reduction(X):\n",
    "    X = StandardScaler().fit_transform(X)\n",
    "    pca = PCA(random_state=seed).fit(X)\n",
    "    print(X.shape)\n",
    "    new_X = pca.transform(X)\n",
    "    print(new_X.shape)\n",
    "    print(\"Dim reduction ready.\")\n",
    "    return new_X, pca"
   ]
  },
  {
   "cell_type": "code",
   "execution_count": null,
   "id": "af41ddf0",
   "metadata": {},
   "outputs": [],
   "source": [
    "def retrieve_info(cluster_labels,y_train):\n",
    "    reference_labels = {}\n",
    "    \n",
    "    for i in range(len(np.unique(cluster_labels))):\n",
    "        index = np.where(cluster_labels == i,1,0)\n",
    "        num = np.bincount(y_train[index==1]).argmax()\n",
    "        reference_labels[i] = num\n",
    "    return reference_labels"
   ]
  },
  {
   "cell_type": "code",
   "execution_count": null,
   "id": "8b5ef534",
   "metadata": {},
   "outputs": [],
   "source": [
    "print(km_model.labels_)\n",
    "print(np.where(km_model.labels_ == 0,1,0))\n",
    "print(y)\n",
    "print(y[np.where(km_model.labels_ == 0,1,0)])\n",
    "print(np.bincount(y[np.where(km_model.labels_ == 0,1,0)]).argmax())\n",
    "print(retrieve_info(km_model.labels_,y))"
   ]
  },
  {
   "cell_type": "code",
   "execution_count": null,
   "id": "f195289c",
   "metadata": {},
   "outputs": [],
   "source": [
    "X_train, y_train = get_Xy(train_pictures)\n",
    "X_test, y_test = get_Xy(test_pictures)\n",
    "\n",
    "print(X_test.shape,X_train.shape)\n",
    "X_pctrain, dim_reductor = dim_reduction(X_train)\n",
    "X_pctest = dim_reductor.transform(X_test)"
   ]
  },
  {
   "cell_type": "code",
   "execution_count": null,
   "id": "3bdd8769",
   "metadata": {},
   "outputs": [],
   "source": [
    "print(X_pctest.shape)"
   ]
  },
  {
   "cell_type": "code",
   "execution_count": null,
   "id": "7465d96d",
   "metadata": {},
   "outputs": [],
   "source": [
    "accuracy = []\n",
    "clusters = []\n",
    "for j in np.arange(2,500,10):\n",
    "    km_model = KMeans(n_clusters=j,random_state=seed).fit(X)\n",
    "    dic_labels = retrieve_info(km_model.labels_,y)\n",
    "    actual_labels = [dic_labels[i] for i in km_model.labels_]\n",
    "    accuracy.append(accuracy_score(actual_labels, y))\n",
    "    clusters.append(j)\n",
    "    print(\"Iteration \" + str(j) + \" complete\")\n",
    "plt.plot(clusters,accuracy)\n",
    "plt.show()"
   ]
  },
  {
   "cell_type": "markdown",
   "id": "09ce8fca",
   "metadata": {},
   "source": [
    "# Traditional Classification --------------------------------------------------------------------------"
   ]
  },
  {
   "cell_type": "code",
   "execution_count": null,
   "id": "cb9c0f67",
   "metadata": {},
   "outputs": [],
   "source": [
    "def dim_reduction(X):\n",
    "    X = StandardScaler().fit_transform(X)\n",
    "    pca = PCA(random_state=seed).fit(X)\n",
    "    new_X = pca.transform(X)\n",
    "    print(\"Dim reduction ready.\")\n",
    "    return new_X"
   ]
  },
  {
   "cell_type": "code",
   "execution_count": null,
   "id": "a9ad5bc5",
   "metadata": {},
   "outputs": [],
   "source": [
    "def train_model(X, label):\n",
    "    \n",
    "    knn = KNeighborsClassifier()\n",
    "    n_neighbors = {'n_neighbors': list(range(1, 31))}\n",
    "    \n",
    "    lr = LogisticRegression(max_iter=1000,random_state=seed)\n",
    "    \n",
    "    svm = SVC()\n",
    "    kernel = {'kernel':('linear','rbf'),'C': [0.1, 1, 10, 100],'gamma': [1, 0.1, 0.01, 0.001]}\n",
    "    \n",
    "    clf_svm = GridSearchCV(svm,kernel).fit(X,label)\n",
    "    print(\"SVM done.\")\n",
    "    clf_knn = GridSearchCV(knn,n_neighbors).fit(X,label)\n",
    "    print(\"KNN done\")\n",
    "    \n",
    "    print(clf_knn.best_score_)\n",
    "    print(clf_svm.best_score_)\n",
    "    print(np.mean(cross_val_score(lr,X,label,cv=5)))\n",
    "    print(\"LR done\")\n",
    "    "
   ]
  },
  {
   "cell_type": "code",
   "execution_count": null,
   "id": "f3c98980",
   "metadata": {},
   "outputs": [],
   "source": [
    "def build_model(X, label):\n",
    "    return\n",
    "    "
   ]
  },
  {
   "cell_type": "code",
   "execution_count": null,
   "id": "89f7e6be",
   "metadata": {},
   "outputs": [],
   "source": [
    "X, y = get_Xy(train_pictures)\n",
    "X = dim_reduction(X)\n",
    "train_model(X, y)"
   ]
  },
  {
   "cell_type": "markdown",
   "id": "d59d2bf9",
   "metadata": {},
   "source": [
    "# Deep Learning -----------------------------------------------------------------------------------------"
   ]
  },
  {
   "cell_type": "code",
   "execution_count": null,
   "id": "d0df424a",
   "metadata": {},
   "outputs": [],
   "source": [
    "for specie in pictures:\n",
    "    for n in pictures[specie]:\n",
    "        print(n.shape)"
   ]
  },
  {
   "cell_type": "code",
   "execution_count": null,
   "id": "1bcbb42f",
   "metadata": {},
   "outputs": [],
   "source": []
  }
 ],
 "metadata": {
  "kernelspec": {
   "display_name": "Python 3 (ipykernel)",
   "language": "python",
   "name": "python3"
  },
  "language_info": {
   "codemirror_mode": {
    "name": "ipython",
    "version": 3
   },
   "file_extension": ".py",
   "mimetype": "text/x-python",
   "name": "python",
   "nbconvert_exporter": "python",
   "pygments_lexer": "ipython3",
   "version": "3.10.3"
  }
 },
 "nbformat": 4,
 "nbformat_minor": 5
}
