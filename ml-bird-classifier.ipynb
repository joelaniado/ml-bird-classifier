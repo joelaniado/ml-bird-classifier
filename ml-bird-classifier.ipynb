{
 "cells": [
  {
   "cell_type": "code",
   "execution_count": 30,
   "id": "2f124aa0",
   "metadata": {},
   "outputs": [],
   "source": [
    "import os \n",
    "import numpy as np \n",
    "import pandas as pd \n",
    "import matplotlib.pyplot as plt\n",
    "import matplotlib.image as Image\n",
    "import cv2\n",
    "import time\n",
    "from sklearn.decomposition import PCA\n",
    "from skimage.measure import block_reduce\n",
    "from sklearn.preprocessing import MinMaxScaler\n",
    "from sklearn.metrics import accuracy_score\n"
   ]
  },
  {
   "cell_type": "markdown",
   "id": "8e607dfb",
   "metadata": {},
   "source": [
    "# Data import & Pre-processing --------------------------------------------------------------------"
   ]
  },
  {
   "cell_type": "code",
   "execution_count": 71,
   "id": "b6396e2c",
   "metadata": {},
   "outputs": [],
   "source": [
    "# Gets paths for images \n",
    "def get_catalog(file):\n",
    "    species = []\n",
    "    pics = []\n",
    "    for root, subdir, files in os.walk(file):\n",
    "        species.append(subdir)\n",
    "        pics.append(files)\n",
    "    species = species[0]\n",
    "    \n",
    "    catalog = {}\n",
    "    for i in range(len(species)):\n",
    "        catalog[species[i]] = pics[i+1]\n",
    "    return catalog"
   ]
  },
  {
   "cell_type": "code",
   "execution_count": 72,
   "id": "87a2694c",
   "metadata": {},
   "outputs": [],
   "source": [
    "def get_pics_colors(catalog, path, species_index, pic_index):\n",
    "    count = 1\n",
    "    new_catalog = {}\n",
    "    for specie in catalog:\n",
    "        blues, greens, reds = [], [], []\n",
    "        for i in range(pic_index):\n",
    "            colors = []\n",
    "            blue, green, red = cv2.split(cv2.cvtColor(cv2.imread(path + specie + '/' + catalog[specie][i]), cv2.COLOR_BGR2RGB))\n",
    "            res1 = cv2.resize(blue, dsize=(98, 64), interpolation=cv2.INTER_NEAREST)\n",
    "            res2 = cv2.resize(green, dsize=(98, 64), interpolation=cv2.INTER_NEAREST)\n",
    "            res3 = cv2.resize(red, dsize=(98, 64), interpolation=cv2.INTER_NEAREST)\n",
    "            \n",
    "            blues.append(res1.flatten())\n",
    "            greens.append(res2.flatten())\n",
    "            reds.append(res3.flatten())\n",
    "            \n",
    "        new_catalog[specie] = np.array([blues,greens,reds])\n",
    "        if count == species_index:\n",
    "            break\n",
    "        count += 1\n",
    "        \n",
    "    return new_catalog\n",
    "    "
   ]
  },
  {
   "cell_type": "code",
   "execution_count": 73,
   "id": "b0f5d2a9",
   "metadata": {},
   "outputs": [],
   "source": [
    "#Gets dictionary of pictures in grayscalse from paths\n",
    "def get_pics_gray(catalog,path, species_index,pic_index):\n",
    "    count = 1\n",
    "    new_catalog = {}\n",
    "    for specie in catalog:\n",
    "        images =[]\n",
    "        for i in range(pic_index):\n",
    "            image = cv2.imread(path + specie + '/' + catalog[specie][i],cv2.IMREAD_GRAYSCALE)\n",
    "            res = cv2.resize(image, dsize=(98, 64), interpolation=cv2.INTER_NEAREST)\n",
    "            images.append(res.flatten())\n",
    "        new_catalog[specie] = np.array(images)\n",
    "        if count == species_index:\n",
    "            break\n",
    "        count += 1\n",
    "        \n",
    "    return new_catalog\n",
    "    "
   ]
  },
  {
   "cell_type": "code",
   "execution_count": 74,
   "id": "8d291c8e",
   "metadata": {},
   "outputs": [],
   "source": [
    "# gets dictionary of pictures in rgb from paths\n",
    "def get_pics(catalog,path, species_index,pic_index):\n",
    "    count = 1\n",
    "    new_catalog = {}\n",
    "    for specie in catalog:\n",
    "        images =[]\n",
    "        for i in range(pic_index):\n",
    "            image = cv2.imread(path + specie + '/' + catalog[specie][i])\n",
    "            res = np.array(cv2.resize(image, dsize=(112, 112), interpolation=cv2.INTER_NEAREST))\n",
    "            images.append(np.reshape(res,(12544,3)))\n",
    "        new_catalog[specie] = images\n",
    "        if count == species_index:\n",
    "            break\n",
    "        count += 1\n",
    "        \n",
    "    return new_catalog"
   ]
  },
  {
   "cell_type": "code",
   "execution_count": 75,
   "id": "f8a9ea8a",
   "metadata": {},
   "outputs": [],
   "source": [
    "# Plots sample pictures\n",
    "def plot_sample(catalog, n_species,n_pics,flag):\n",
    "    count = 1\n",
    "    for specie in catalog:\n",
    "        for i in range(n_pics):\n",
    "            if flag:\n",
    "                picture = plt.imshow(np.reshape(catalog[specie][i],(64,98)))\n",
    "            else:\n",
    "                picture = plt.imshow(np.reshape(catalog[specie][i],(112,112,3)))\n",
    "            plt.show()\n",
    "        if count == n_species:\n",
    "            break\n",
    "        count += 1\n",
    "        "
   ]
  },
  {
   "cell_type": "code",
   "execution_count": 76,
   "id": "c5decd09",
   "metadata": {},
   "outputs": [],
   "source": [
    "# Returns dictionary: species as keys, mxn array with pictures as rows and pixels as columns. \n",
    "def import_pics(path, nspec,npic):\n",
    "    bird_catalog = get_catalog(path)\n",
    "    #pics = get_pics_gray(bird_catalog,path, nspec, npic)\n",
    "    pics = get_pics_colors(bird_catalog,path, nspec, npic)\n",
    "    return pics"
   ]
  },
  {
   "cell_type": "code",
   "execution_count": 92,
   "id": "f2a0a662",
   "metadata": {},
   "outputs": [],
   "source": [
    "# Main function for data preprocessing ----------------------------------------------------------------------------------\n",
    "seed = 2\n",
    "np.random.RandomState(seed)\n",
    "\n",
    "\n",
    "#Declare variables \n",
    "train_file, valid_file, test_file = 'data/birds/train/', 'data/birds/valid/', 'data/birds/test/'\n",
    "num_species_train, num_pics_train = 10, 120\n",
    "num_species_val, num_pics_val = 3, 5\n",
    "num_species_test, num_pics_test = 10, 5\n",
    "\n",
    "#get pictures\n",
    "train_pictures = import_pics(train_file, num_species_train, num_pics_train)\n",
    "valid_pictures = import_pics(valid_file, num_species_val, num_pics_val)\n",
    "test_pictures = import_pics(test_file, num_species_test, num_pics_test)\n",
    "\n",
    "#plot samples of imported images\n",
    "#plot_sample(test_pictures,2,2,1)\n"
   ]
  },
  {
   "cell_type": "markdown",
   "id": "b2803c06",
   "metadata": {},
   "source": [
    "# Dimensionality Reduction -------------------------------------------------------------------------"
   ]
  },
  {
   "cell_type": "code",
   "execution_count": 93,
   "id": "a8e9830f",
   "metadata": {},
   "outputs": [],
   "source": [
    "def eigendecomposition(images):\n",
    "    species_values = {}\n",
    "    for specie, values in images.items():\n",
    "        color_values = []\n",
    "        for color in values:\n",
    "            mean = np.mean(color,axis=0)\n",
    "            x = (color-mean)/ 255\n",
    "            U, S, V = np.linalg.svd(x.T)\n",
    "            color_values.append([U,S,mean])    \n",
    "        species_values[specie] = color_values\n",
    "    print(\"Done eigendecomposing.\")\n",
    "    return species_values"
   ]
  },
  {
   "cell_type": "code",
   "execution_count": 94,
   "id": "90e8cc5c",
   "metadata": {},
   "outputs": [],
   "source": [
    "def get_eigenspecies(eigen,n_comp):\n",
    "    species_eigenvectors = {}\n",
    "    for spec, vals in  eigen.items():\n",
    "        color_values = []\n",
    "        for color in vals:\n",
    "            U = color[0]\n",
    "            mean = color[2]\n",
    "            eigenvectors =  U[:,:n_comp]\n",
    "            color_values.append((eigenvectors,mean))\n",
    "        species_eigenvectors[spec] = color_values\n",
    "    print(\"Done getting eigenspecies.\")\n",
    "    return species_eigenvectors"
   ]
  },
  {
   "cell_type": "code",
   "execution_count": 95,
   "id": "25fe88b4",
   "metadata": {},
   "outputs": [],
   "source": [
    "def combine_pics(pictures):\n",
    "    test_images = []\n",
    "    for spec,test_im in pictures.items():\n",
    "        if len(test_images) == 0:\n",
    "            test_images = test_im\n",
    "        else:\n",
    "            test_images = np.hstack([test_images,test_im])\n",
    "    print(\"Done combining pics.\")\n",
    "    return test_images\n",
    "    "
   ]
  },
  {
   "cell_type": "code",
   "execution_count": 96,
   "id": "b6c9bc68",
   "metadata": {},
   "outputs": [],
   "source": [
    "def get_residuals(eigenspecies,test):\n",
    "    residuals_matrix = []\n",
    "    test = test / 255\n",
    "    matrix_residual = []\n",
    "    for i in range(3):\n",
    "        residual_color = []\n",
    "        for image in test[i]:\n",
    "            per_species_residual = []\n",
    "            for specie, metrics in eigenspecies.items():\n",
    "                pre_image = image - (metrics[i][1]/255)\n",
    "                residual = np.linalg.norm(pre_image - (metrics[i][0] @ metrics[i][0].T @ pre_image))**2\n",
    "                per_species_residual.append(residual)\n",
    "            residual_color.append(per_species_residual)\n",
    "        matrix_residual.append(residual_color) \n",
    "    print(\"Done getting residuals.\")\n",
    "    return np.array(matrix_residual)"
   ]
  },
  {
   "cell_type": "code",
   "execution_count": 97,
   "id": "132f9181",
   "metadata": {},
   "outputs": [],
   "source": [
    "def get_classes(n_test_species,n_test_pics):\n",
    "    temp_a = np.arange(n_test_species)\n",
    "    temp_b = np.repeat(temp_a,n_test_pics)\n",
    "    return np.array(temp_b +1)"
   ]
  },
  {
   "cell_type": "code",
   "execution_count": null,
   "id": "9df769a8",
   "metadata": {},
   "outputs": [
    {
     "name": "stdout",
     "output_type": "stream",
     "text": [
      "Done eigendecomposing.\n",
      "Done getting eigenspecies.\n",
      "Done combining pics.\n"
     ]
    }
   ],
   "source": [
    "start = time.time()\n",
    "eigenvectors = eigendecomposition(train_pictures)\n",
    "rgb_eigenspecies = get_eigenspecies(eigenvectors, 48)\n",
    "combined_test_pics = combine_pics(test_pictures)\n",
    "residuals = get_residuals(rgb_eigenspecies, combined_test_pics)\n",
    "end = time.time()\n",
    "print(end-start)"
   ]
  },
  {
   "cell_type": "code",
   "execution_count": 91,
   "id": "3a494448",
   "metadata": {},
   "outputs": [
    {
     "name": "stdout",
     "output_type": "stream",
     "text": [
      "0.6\n"
     ]
    }
   ],
   "source": [
    "l2_residuals = np.sqrt(np.sum(residuals**2,axis=0))\n",
    "classification = l2_residuals.argmin(axis=1) + 1\n",
    "true_classes = get_classes(num_species_test, num_pics_test)\n",
    "print(accuracy_score(true_classes,classification))"
   ]
  },
  {
   "cell_type": "code",
   "execution_count": 78,
   "id": "9c6c516b",
   "metadata": {},
   "outputs": [
    {
     "name": "stdout",
     "output_type": "stream",
     "text": [
      "0.52\n"
     ]
    }
   ],
   "source": [
    "new_residuals = []\n",
    "for n in residuals:\n",
    "    weights = (n / np.sum(n,axis=1)[:,None])\n",
    "    new_residuals.append(weights)\n",
    "new_residuals = np.array(new_residuals)\n",
    "\n",
    "minimums = np.argmin(new_residuals,axis=0)\n",
    "for i in range(minimums.shape[0]):\n",
    "    for j in range(minimums.shape[1]):\n",
    "        new_residuals[minimums[i][j],i,j] = 0\n",
    "new_res = 1- new_residuals\n",
    "\n",
    "final = []\n",
    "for n in range(3):\n",
    "    new = residuals[n] * new_res[n]\n",
    "    final.append(new)\n",
    "\n",
    "avg_residuals = np.sum(residuals,axis=0) / 3\n",
    "classification = avg_residuals.argmin(axis=1) + 1\n",
    "true_classes = get_classes(num_species_test, num_pics_test)\n",
    "print(accuracy_score(true_classes,classification))"
   ]
  },
  {
   "cell_type": "code",
   "execution_count": null,
   "id": "dc890025",
   "metadata": {},
   "outputs": [],
   "source": [
    "def eval_model(eigenspec,test_im,shape, n_test_species, n_test_pics):\n",
    "    score = []\n",
    "    principal_comp = []\n",
    "    counter = np.arange(1,shape[0], 100)\n",
    "    for i in counter:\n",
    "        eigenspecies = get_eigenspecies(eigenspec, i)\n",
    "        residuals = get_residuals(eigenspecies,test_im)\n",
    "        classification = residuals.argmin(axis=1) + 1\n",
    "        true_classes = get_classes(n_test_species,n_test_pics)\n",
    "        score.append(accuracy_score(true_classes,classification))\n",
    "        principal_comp.append(i)\n",
    "        print(i,\" iteration complete.\")\n",
    "    return score, principal_comp\n",
    "    "
   ]
  },
  {
   "cell_type": "markdown",
   "id": "a98ec464",
   "metadata": {},
   "source": [
    "# Density Estimation -----------------------------------------------------------------------------------"
   ]
  },
  {
   "cell_type": "markdown",
   "id": "09ce8fca",
   "metadata": {},
   "source": [
    "# Traditional Classification --------------------------------------------------------------------------"
   ]
  },
  {
   "cell_type": "markdown",
   "id": "d59d2bf9",
   "metadata": {},
   "source": [
    "# Deep Learning -----------------------------------------------------------------------------------------"
   ]
  },
  {
   "cell_type": "code",
   "execution_count": null,
   "id": "d0df424a",
   "metadata": {},
   "outputs": [],
   "source": [
    "for specie in pictures:\n",
    "    for n in pictures[specie]:\n",
    "        print(n.shape)"
   ]
  },
  {
   "cell_type": "code",
   "execution_count": null,
   "id": "1bcbb42f",
   "metadata": {},
   "outputs": [],
   "source": []
  }
 ],
 "metadata": {
  "kernelspec": {
   "display_name": "Python 3 (ipykernel)",
   "language": "python",
   "name": "python3"
  },
  "language_info": {
   "codemirror_mode": {
    "name": "ipython",
    "version": 3
   },
   "file_extension": ".py",
   "mimetype": "text/x-python",
   "name": "python",
   "nbconvert_exporter": "python",
   "pygments_lexer": "ipython3",
   "version": "3.10.3"
  }
 },
 "nbformat": 4,
 "nbformat_minor": 5
}
