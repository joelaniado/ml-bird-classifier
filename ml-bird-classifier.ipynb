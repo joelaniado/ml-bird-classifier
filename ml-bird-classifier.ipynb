{
 "cells": [
  {
   "cell_type": "code",
   "execution_count": 37,
   "id": "2f124aa0",
   "metadata": {},
   "outputs": [],
   "source": [
    "import os \n",
    "import numpy as np \n",
    "import pandas as pd \n",
    "import matplotlib.pyplot as plt\n",
    "import matplotlib.image as Image\n",
    "import cv2\n",
    "import time\n",
    "from sklearn.metrics import accuracy_score\n",
    "from sklearn.svm import SVC\n",
    "from sklearn.neighbors import KNeighborsClassifier\n",
    "from sklearn.linear_model import LogisticRegression\n",
    "from sklearn.preprocessing import StandardScaler\n"
   ]
  },
  {
   "cell_type": "markdown",
   "id": "8e607dfb",
   "metadata": {},
   "source": [
    "# Data import & Pre-processing --------------------------------------------------------------------"
   ]
  },
  {
   "cell_type": "code",
   "execution_count": 7,
   "id": "b6396e2c",
   "metadata": {},
   "outputs": [],
   "source": [
    "# Gets paths for images \n",
    "def get_catalog(file):\n",
    "    species = []\n",
    "    pics = []\n",
    "    for root, subdir, files in os.walk(file):\n",
    "        species.append(subdir)\n",
    "        pics.append(files)\n",
    "    species = species[0]\n",
    "    \n",
    "    catalog = {}\n",
    "    for i in range(len(species)):\n",
    "        catalog[species[i]] = pics[i+1]\n",
    "    return catalog"
   ]
  },
  {
   "cell_type": "code",
   "execution_count": 8,
   "id": "87a2694c",
   "metadata": {},
   "outputs": [],
   "source": [
    "def get_pics_colors(catalog, path, species_index, pic_index):\n",
    "    count = 1\n",
    "    new_catalog = {}\n",
    "    for specie in catalog:\n",
    "        blues, greens, reds = [], [], []\n",
    "        for i in range(pic_index):\n",
    "            colors = []\n",
    "            blue, green, red = cv2.split(cv2.cvtColor(cv2.imread(path + specie + '/' + catalog[specie][i]), cv2.COLOR_BGR2RGB))\n",
    "            res1 = cv2.resize(blue, dsize=(98, 64), interpolation=cv2.INTER_NEAREST)\n",
    "            res2 = cv2.resize(green, dsize=(98, 64), interpolation=cv2.INTER_NEAREST)\n",
    "            res3 = cv2.resize(red, dsize=(98, 64), interpolation=cv2.INTER_NEAREST)\n",
    "            \n",
    "            blues.append(res1.flatten())\n",
    "            greens.append(res2.flatten())\n",
    "            reds.append(res3.flatten())\n",
    "            \n",
    "        new_catalog[specie] = np.array([blues,greens,reds])\n",
    "        if count == species_index:\n",
    "            break\n",
    "        count += 1\n",
    "        \n",
    "    return new_catalog\n",
    "    "
   ]
  },
  {
   "cell_type": "code",
   "execution_count": 9,
   "id": "b0f5d2a9",
   "metadata": {},
   "outputs": [],
   "source": [
    "#Gets dictionary of pictures in grayscalse from paths\n",
    "def get_pics_gray(catalog,path, species_index,pic_index):\n",
    "    count = 1\n",
    "    new_catalog = {}\n",
    "    for specie in catalog:\n",
    "        images =[]\n",
    "        for i in range(pic_index):\n",
    "            image = cv2.imread(path + specie + '/' + catalog[specie][i],cv2.IMREAD_GRAYSCALE)\n",
    "            res = cv2.resize(image, dsize=(98, 64), interpolation=cv2.INTER_NEAREST)\n",
    "            images.append(res.flatten())\n",
    "        new_catalog[specie] = np.array(images)\n",
    "        if count == species_index:\n",
    "            break\n",
    "        count += 1\n",
    "        \n",
    "    return new_catalog\n",
    "    "
   ]
  },
  {
   "cell_type": "code",
   "execution_count": 10,
   "id": "f8a9ea8a",
   "metadata": {},
   "outputs": [],
   "source": [
    "# Plots sample pictures\n",
    "def plot_sample(catalog, n_species,n_pics,flag):\n",
    "    count = 1\n",
    "    for specie in catalog:\n",
    "        for i in range(n_pics):\n",
    "            if flag:\n",
    "                picture = plt.imshow(np.reshape(catalog[specie][i],(64,98)))\n",
    "            else:\n",
    "                picture = plt.imshow(np.reshape(catalog[specie][i],(112,112,3)))\n",
    "            plt.show()\n",
    "        if count == n_species:\n",
    "            break\n",
    "        count += 1\n",
    "        "
   ]
  },
  {
   "cell_type": "code",
   "execution_count": 11,
   "id": "c5decd09",
   "metadata": {},
   "outputs": [],
   "source": [
    "# Returns dictionary: species as keys, mxn array with pictures as rows and pixels as columns. \n",
    "def import_pics(path, nspec,npic):\n",
    "    bird_catalog = get_catalog(path)\n",
    "    #pics = get_pics_gray(bird_catalog,path, nspec, npic)\n",
    "    pics = get_pics_colors(bird_catalog,path, nspec, npic)\n",
    "    return pics"
   ]
  },
  {
   "cell_type": "code",
   "execution_count": 12,
   "id": "f2a0a662",
   "metadata": {},
   "outputs": [],
   "source": [
    "# Main function for data preprocessing ----------------------------------------------------------------------------------\n",
    "seed = 2\n",
    "np.random.RandomState(seed)\n",
    "\n",
    "\n",
    "#Declare variables \n",
    "train_file, valid_file, test_file = 'data/birds/train/', 'data/birds/valid/', 'data/birds/test/'\n",
    "num_species_train, num_pics_train = 3, 130\n",
    "num_species_val, num_pics_val = 3, 5\n",
    "num_species_test, num_pics_test = 3, 5\n",
    "\n",
    "#get pictures\n",
    "train_pictures = import_pics(train_file, num_species_train, num_pics_train)\n",
    "valid_pictures = import_pics(valid_file, num_species_val, num_pics_val)\n",
    "test_pictures = import_pics(test_file, num_species_test, num_pics_test)\n",
    "\n",
    "#plot samples of imported images\n",
    "#plot_sample(test_pictures,2,2,1)\n"
   ]
  },
  {
   "cell_type": "markdown",
   "id": "b2803c06",
   "metadata": {},
   "source": [
    "# Dimensionality Reduction -------------------------------------------------------------------------"
   ]
  },
  {
   "cell_type": "code",
   "execution_count": 155,
   "id": "a8e9830f",
   "metadata": {},
   "outputs": [],
   "source": [
    "def eigendecomposition(images):\n",
    "    species_values = {}\n",
    "    for specie, values in images.items():\n",
    "        color_values = []\n",
    "        for color in values:\n",
    "            mean = np.mean(color,axis=0)\n",
    "            x = (color-mean)/ 255\n",
    "            U, S, V = np.linalg.svd(x.T)\n",
    "            color_values.append([U,S,mean])    \n",
    "        species_values[specie] = color_values\n",
    "    print(\"Done eigendecomposing.\")\n",
    "    return species_values"
   ]
  },
  {
   "cell_type": "code",
   "execution_count": 156,
   "id": "90e8cc5c",
   "metadata": {},
   "outputs": [],
   "source": [
    "def get_eigenspecies(eigen,n_comp):\n",
    "    species_eigenvectors = {}\n",
    "    for spec, vals in  eigen.items():\n",
    "        color_values = []\n",
    "        for color in vals:\n",
    "            U = color[0]\n",
    "            mean = color[2]\n",
    "            eigenvectors =  U[:,:n_comp]\n",
    "            color_values.append((eigenvectors,mean))\n",
    "        species_eigenvectors[spec] = color_values\n",
    "    print(\"Done getting eigenspecies.\")\n",
    "    return species_eigenvectors"
   ]
  },
  {
   "cell_type": "code",
   "execution_count": 157,
   "id": "25fe88b4",
   "metadata": {},
   "outputs": [],
   "source": [
    "def combine_pics(pictures):\n",
    "    test_images = []\n",
    "    for spec,test_im in pictures.items():\n",
    "        if len(test_images) == 0:\n",
    "            test_images = test_im\n",
    "        else:\n",
    "            test_images = np.hstack([test_images,test_im])\n",
    "    print(\"Done combining pics.\")\n",
    "    return test_images\n",
    "    "
   ]
  },
  {
   "cell_type": "code",
   "execution_count": 158,
   "id": "b6c9bc68",
   "metadata": {},
   "outputs": [],
   "source": [
    "def get_residuals(eigenspecies,test):\n",
    "    residuals_matrix = []\n",
    "    test = test / 255\n",
    "    matrix_residual = []\n",
    "    for i in range(3):\n",
    "        residual_color = []\n",
    "        for image in test[i]:\n",
    "            per_species_residual = []\n",
    "            for specie, metrics in eigenspecies.items():\n",
    "                pre_image = image - (metrics[i][1]/255)\n",
    "                residual = np.linalg.norm(pre_image - (metrics[i][0] @ metrics[i][0].T @ pre_image))**2\n",
    "                per_species_residual.append(residual)\n",
    "            residual_color.append(per_species_residual)\n",
    "        matrix_residual.append(residual_color) \n",
    "    print(\"Done getting residuals.\")\n",
    "    return np.array(matrix_residual)"
   ]
  },
  {
   "cell_type": "code",
   "execution_count": 159,
   "id": "132f9181",
   "metadata": {},
   "outputs": [],
   "source": [
    "def get_classes(n_test_species,n_test_pics):\n",
    "    temp_a = np.arange(n_test_species)\n",
    "    temp_b = np.repeat(temp_a,n_test_pics)\n",
    "    return np.array(temp_b +1)"
   ]
  },
  {
   "cell_type": "code",
   "execution_count": 160,
   "id": "9df769a8",
   "metadata": {},
   "outputs": [
    {
     "name": "stdout",
     "output_type": "stream",
     "text": [
      "Done eigendecomposing.\n",
      "Done getting eigenspecies.\n",
      "Done combining pics.\n",
      "Done getting residuals.\n",
      "114.88443279266357\n"
     ]
    }
   ],
   "source": [
    "start = time.time()\n",
    "eigenvectors = eigendecomposition(train_pictures)\n",
    "rgb_eigenspecies = get_eigenspecies(eigenvectors, 48)\n",
    "combined_test_pics = combine_pics(test_pictures)\n",
    "residuals = get_residuals(rgb_eigenspecies, combined_test_pics)\n",
    "end = time.time()\n",
    "print(end-start)"
   ]
  },
  {
   "cell_type": "code",
   "execution_count": 161,
   "id": "3a494448",
   "metadata": {},
   "outputs": [
    {
     "name": "stdout",
     "output_type": "stream",
     "text": [
      "0.6666666666666666\n"
     ]
    }
   ],
   "source": [
    "l2_residuals = np.sqrt(np.sum(residuals**2,axis=0))\n",
    "#l2_residuals = np.sum(residuals,axis=0)**2 / 3\n",
    "classification = l2_residuals.argmin(axis=1) + 1\n",
    "true_classes = get_classes(num_species_test, num_pics_test)\n",
    "print(accuracy_score(true_classes,classification))"
   ]
  },
  {
   "cell_type": "code",
   "execution_count": 173,
   "id": "a784fa7a",
   "metadata": {},
   "outputs": [
    {
     "name": "stdout",
     "output_type": "stream",
     "text": [
      "[1 2 1 1 1 2 2 2 3 2 1 2 3 2 3]\n",
      "[[334.55437859 349.08314976 352.9828837 ]\n",
      " [278.07041247 274.76463818 293.58270176]\n",
      " [150.84676198 160.97574707 164.0289999 ]\n",
      " [255.00320823 276.85403663 295.42801958]\n",
      " [163.52717896 172.73939565 176.02040037]\n",
      " [230.61183267 185.061862   251.44541529]\n",
      " [201.77462796 191.90367549 204.81728274]\n",
      " [191.91894984 187.20682729 196.75342737]\n",
      " [ 72.03089873  72.17577557  71.53028186]\n",
      " [193.6605745  190.27408073 208.06516479]\n",
      " [220.34211897 239.70417897 227.84762884]\n",
      " [172.42792967 171.73335659 175.57842453]\n",
      " [139.36921697 162.36485084 134.31910051]\n",
      " [156.22106721 150.40616862 151.35097628]\n",
      " [159.94480309 166.2249552  155.01787082]]\n"
     ]
    }
   ],
   "source": [
    "print(classification)\n",
    "print(l2_residuals)"
   ]
  },
  {
   "cell_type": "code",
   "execution_count": 172,
   "id": "9c6c516b",
   "metadata": {},
   "outputs": [
    {
     "name": "stdout",
     "output_type": "stream",
     "text": [
      "0.6666666666666666\n"
     ]
    },
    {
     "data": {
      "text/plain": [
       "array([1, 2, 1, 1, 1, 2, 2, 2, 3, 2, 1, 2, 3, 2, 3], dtype=int64)"
      ]
     },
     "execution_count": 172,
     "metadata": {},
     "output_type": "execute_result"
    }
   ],
   "source": [
    "new_residuals = []\n",
    "for n in residuals:\n",
    "    weights = (n / np.sum(n,axis=1)[:,None])\n",
    "    new_residuals.append(weights)\n",
    "new_residuals = np.array(new_residuals)\n",
    "\n",
    "c = 0\n",
    "most_rep_pixels = np.argmin(np.sum(residuals,axis=2),axis=0)\n",
    "for i in range(most_rep_pixels.shape[0]):\n",
    "    new_residuals[most_rep_pixels[i]][i] = new_residuals[most_rep_pixels[i]][i] * 0\n",
    "new_residuals = 1 - new_residuals\n",
    "\n",
    "final = np.array([residuals[color] * new_residuals[color] for color in range(3)])\n",
    "\n",
    "l2_residuals = np.sqrt(np.sum(final**2,axis=0))\n",
    "#l2_residuals = np.sum(residuals,axis=0)**2 / 3\n",
    "classification = l2_residuals.argmin(axis=1) + 1\n",
    "true_classes = get_classes(num_species_test, num_pics_test)\n",
    "print(accuracy_score(true_classes,classification))\n",
    "classification"
   ]
  },
  {
   "cell_type": "code",
   "execution_count": 140,
   "id": "b6e7e504",
   "metadata": {},
   "outputs": [
    {
     "name": "stdout",
     "output_type": "stream",
     "text": [
      "(3, 25, 5)\n"
     ]
    }
   ],
   "source": []
  },
  {
   "cell_type": "code",
   "execution_count": null,
   "id": "dc890025",
   "metadata": {},
   "outputs": [],
   "source": [
    "def eval_model(eigenspec,test_im n_test_species, n_test_pics):\n",
    "    score = []\n",
    "    principal_comp = []\n",
    "    counter = np.arange(1,120, 1)\n",
    "    for i in counter:\n",
    "        eigenspecies = get_eigenspecies(eigenspec, i)\n",
    "        residuals = get_residuals(eigenspecies,test_im)\n",
    "        classification = residuals.argmin(axis=1) + 1\n",
    "        true_classes = get_classes(n_test_species,n_test_pics)\n",
    "        score.append(accuracy_score(true_classes,classification))\n",
    "        principal_comp.append(i)\n",
    "        print(i,\" iteration complete.\")\n",
    "    return score, principal_comp\n",
    "    "
   ]
  },
  {
   "cell_type": "markdown",
   "id": "a98ec464",
   "metadata": {},
   "source": [
    "# Density Estimation -----------------------------------------------------------------------------------"
   ]
  },
  {
   "cell_type": "code",
   "execution_count": 21,
   "id": "e799d5e3",
   "metadata": {},
   "outputs": [
    {
     "name": "stdout",
     "output_type": "stream",
     "text": [
      "[[180 186 198 ... 173 195 173]\n",
      " [ 37  39  40 ...  60  60  60]\n",
      " [238 238 234 ...  41  42  41]\n",
      " ...\n",
      " [ 74  77  83 ...  91 133 110]\n",
      " [ 43  44  44 ... 115 103  85]\n",
      " [ 91  97 103 ... 104  92  88]] (130, 6272)\n"
     ]
    }
   ],
   "source": [
    "count = 1\n",
    "for spec, values in train_pictures.items():\n",
    "    for a in values:\n",
    "        john = a \n",
    "        print(john, john.shape)\n",
    "        if count == 1:\n",
    "            break\n",
    "    if count == 1:\n",
    "        break"
   ]
  },
  {
   "cell_type": "markdown",
   "id": "09ce8fca",
   "metadata": {},
   "source": [
    "# Traditional Classification --------------------------------------------------------------------------"
   ]
  },
  {
   "cell_type": "code",
   "execution_count": 59,
   "id": "80459cdd",
   "metadata": {},
   "outputs": [],
   "source": [
    "def get_pics(catalog,path, species_index,pic_index):\n",
    "    count = 1\n",
    "    new_catalog = {}\n",
    "    for specie in catalog:\n",
    "        images =[]\n",
    "        for i in range(pic_index):\n",
    "            image = cv2.imread(path + specie + '/' + catalog[specie][i])\n",
    "            res = cv2.resize(image, dsize=(98, 64), interpolation=cv2.INTER_NEAREST)\n",
    "            images.append(res.flatten())\n",
    "        new_catalog[specie] = np.array(images)\n",
    "        if count == species_index:\n",
    "            break\n",
    "        count += 1\n",
    "        \n",
    "    return new_catalog"
   ]
  },
  {
   "cell_type": "code",
   "execution_count": 60,
   "id": "85fdc93c",
   "metadata": {},
   "outputs": [],
   "source": [
    "def import_pics2(path, nspec,npic):\n",
    "    bird_catalog = get_catalog(path)\n",
    "    pics = get_pics(bird_catalog,path, nspec, npic)\n",
    "    return pics"
   ]
  },
  {
   "cell_type": "code",
   "execution_count": 67,
   "id": "b3548133",
   "metadata": {},
   "outputs": [],
   "source": [
    "num_species_train, num_pics_train = 2, 130\n",
    "num_species_val, num_pics_val = 3, 5\n",
    "num_species_test, num_pics_test = 3, 5\n",
    "\n",
    "#get pictures\n",
    "train_pictures = import_pics2(train_file, num_species_train, num_pics_train)\n",
    "valid_pictures = import_pics2(valid_file, num_species_val, num_pics_val)\n",
    "test_pictures = import_pics2(test_file, num_species_test, num_pics_test)\n"
   ]
  },
  {
   "cell_type": "code",
   "execution_count": 70,
   "id": "09fb764a",
   "metadata": {},
   "outputs": [
    {
     "name": "stdout",
     "output_type": "stream",
     "text": [
      "(130, 18816)\n",
      "(130, 18816)\n",
      "{'ABBOTTS BABBLER': array([[149, 172, 180, ..., 192, 171, 173],\n",
      "       [ 33,  62,  37, ...,  78,  87,  60],\n",
      "       [230, 238, 238, ...,  39,  41,  41],\n",
      "       ...,\n",
      "       [ 64,  86,  74, ...,  68, 125, 110],\n",
      "       [ 22,  42,  43, ...,  88,  98,  85],\n",
      "       [ 72, 132,  91, ...,  91, 128,  88]], dtype=uint8), 'ABBOTTS BOOBY': array([[231, 233, 234, ..., 131, 163, 176],\n",
      "       [134, 135, 139, ..., 145, 142, 144],\n",
      "       [ 53, 123, 117, ...,  22,  68,  56],\n",
      "       ...,\n",
      "       [ 55,  75,  92, ...,  45,  50,  59],\n",
      "       [187, 184, 176, ..., 189, 181, 168],\n",
      "       [167, 151, 139, ..., 149, 162, 148]], dtype=uint8)}\n"
     ]
    }
   ],
   "source": [
    "for spec, value in train_pictures.items():\n",
    "    print(value.shape)\n",
    "print(train_pictures)"
   ]
  },
  {
   "cell_type": "code",
   "execution_count": 75,
   "id": "c741956e",
   "metadata": {},
   "outputs": [],
   "source": [
    "def get_Xy(pictures):\n",
    "    test_images = []\n",
    "    labels = []\n",
    "    count = 1\n",
    "    for species, values in pictures.items():\n",
    "        if len(test_images) == 0:\n",
    "            test_images = values\n",
    "            labels = np.repeat(count,values.shape[0])\n",
    "        else:\n",
    "            test_images = np.concatenate((test_images,values),axis=0)\n",
    "            labels = np.concatenate((labels, np.repeat(count, values.shape[0])),axis=0)\n",
    "        count +=1\n",
    "    test_images = np.array(test_images)\n",
    "    return test_images, np.array(labels)"
   ]
  },
  {
   "cell_type": "code",
   "execution_count": 35,
   "id": "72e30fa4",
   "metadata": {},
   "outputs": [],
   "source": [
    "def train_model(X, label):\n",
    "    y = np.reshape(np.repeat(label,X.shape[0]),(X.shape[0],1))\n",
    "    X_scaled = StandardScaler().fit_transform(X)\n",
    "    print(X_scaled,X_scaled.shape)\n",
    "    \n",
    "    knn = KNeighborsClassifier()\n",
    "    n_neighbors = {'n_neighbors':[3,4,5,6,7,8]}\n",
    "    \n",
    "    lr = LogisticRegression()\n",
    "    \n",
    "    svm = SVC()\n",
    "    kernel = {'kernel':('linear','rbf')}\n",
    "    \n",
    "    clf_knn = GridSearchCV(knn,n_neighbors).fit(X,y)\n",
    "    "
   ]
  },
  {
   "cell_type": "code",
   "execution_count": 77,
   "id": "89f7e6be",
   "metadata": {},
   "outputs": [
    {
     "name": "stdout",
     "output_type": "stream",
     "text": [
      "(260,)\n"
     ]
    }
   ],
   "source": [
    "X, y = get_Xy(train_pictures)\n",
    "print(y.shape)"
   ]
  },
  {
   "cell_type": "markdown",
   "id": "d59d2bf9",
   "metadata": {},
   "source": [
    "# Deep Learning -----------------------------------------------------------------------------------------"
   ]
  },
  {
   "cell_type": "code",
   "execution_count": null,
   "id": "d0df424a",
   "metadata": {},
   "outputs": [],
   "source": [
    "for specie in pictures:\n",
    "    for n in pictures[specie]:\n",
    "        print(n.shape)"
   ]
  },
  {
   "cell_type": "code",
   "execution_count": null,
   "id": "1bcbb42f",
   "metadata": {},
   "outputs": [],
   "source": []
  }
 ],
 "metadata": {
  "kernelspec": {
   "display_name": "Python 3 (ipykernel)",
   "language": "python",
   "name": "python3"
  },
  "language_info": {
   "codemirror_mode": {
    "name": "ipython",
    "version": 3
   },
   "file_extension": ".py",
   "mimetype": "text/x-python",
   "name": "python",
   "nbconvert_exporter": "python",
   "pygments_lexer": "ipython3",
   "version": "3.10.3"
  }
 },
 "nbformat": 4,
 "nbformat_minor": 5
}
